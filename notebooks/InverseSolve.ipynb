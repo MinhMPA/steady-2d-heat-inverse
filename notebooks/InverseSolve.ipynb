{
 "cells": [
  {
   "cell_type": "markdown",
   "id": "b952f3bb-2f92-472b-a0b2-058fc614f849",
   "metadata": {},
   "source": [
    "# Inverse Solve"
   ]
  },
  {
   "cell_type": "markdown",
   "id": "07a24228-6f4e-472f-bfac-b5d620ae9519",
   "metadata": {},
   "source": [
    "We solve the inverse problem of identifying the underlying, spatially-varying thermal conductivity $h(x,y)$ given the surface temperature $T(x,y)$ and a constant heat source $q(x,y)=1$ within a unit square domain $[0,1]\\times[0,1]$.\n",
    "\n",
    "The system is described by the steady-state Poisson heat equation in two dimensions (2D) and subjected to the following mixed boundary conditions:\n",
    " - $T=300K$ at the bottom.\n",
    " - Insulated walls, i.e. $\\frac{\\partial T}{\\partial \\hat{n}}$ ($\\hat{n}$ being the surface unit vector), on the other three sides.\n",
    "\n",
    "To find $h$, we will minimize the following cost function J:\n",
    "\n",
    "$J=\\frac{1}{2}\\left[\\frac{\\left(T-T_{\\rm obs}\\right)^2}{\\sigma^2}+\\alpha|\\nabla^2 h|\\right]$,\n",
    "\n",
    "using the conjugate-gradient-descend method. Since the forward solver does not provide the gradient, we will solve for the gradient using the adjoint method."
   ]
  },
  {
   "cell_type": "code",
   "execution_count": null,
   "id": "4fb100bd-f2bb-42fd-a1cd-2057ffa96a24",
   "metadata": {},
   "outputs": [],
   "source": [
    "import os\n",
    "import h5py as h5\n",
    "import numpy as np\n",
    "\n",
    "from mpi4py import MPI\n",
    "from petsc4py import PETSc\n",
    "\n",
    "from forward_solver import SteadyHeat2DForwardSolver as ForwardSolver\n",
    "from adjoint_solver import SteadyHeat2DAdjointSolver as AdjointSolver\n",
    "from tao_solver import SteadyHeat2DTAOSolver"
   ]
  },
  {
   "cell_type": "markdown",
   "id": "053f9d66-43f0-4382-89c4-4addd58daa1c",
   "metadata": {},
   "source": [
    "## Load saved output from disk"
   ]
  },
  {
   "cell_type": "code",
   "execution_count": null,
   "id": "c8704b21-70db-4380-8554-052c48fa0329",
   "metadata": {},
   "outputs": [],
   "source": [
    "test_dir='../test_data/'\n",
    "test_outfile_name='blackbox_output'\n",
    "test_outfile_format='.xdmf'\n",
    "\n",
    "def list_h5(name, obj):\n",
    "    \"\"\"\n",
    "    HDF5 IO helper\n",
    "    \"\"\"\n",
    "    if isinstance(obj, h5.Dataset):\n",
    "        print(f\"{name}    Dataset, shape={obj.shape}, dtype={obj.dtype}\")\n",
    "    else:\n",
    "        print(f\"{name}    Group\")\n",
    "\n",
    "test_outfile_format='.h5'\n",
    "with h5.File(os.path.join(test_dir,test_outfile_name+test_outfile_format), 'r') as f:\n",
    "    f.visititems(list_h5)\n",
    "    T_noiseless = f['Function/Temperature/0'][()]\n",
    "    T_noisy = f['Function/ObservedTemperature/0'][()]"
   ]
  },
  {
   "cell_type": "markdown",
   "id": "5a796289-8892-4abb-b8dc-8c85edc15266",
   "metadata": {},
   "source": [
    "### Forward solver"
   ]
  },
  {
   "cell_type": "markdown",
   "id": "12d35827-9e65-47a1-a82e-20e3667087e9",
   "metadata": {},
   "source": [
    "#### Define domain"
   ]
  },
  {
   "cell_type": "code",
   "execution_count": null,
   "id": "7381a889-a5fc-492f-b435-38cfc84de69d",
   "metadata": {},
   "outputs": [],
   "source": [
    "nmesh=128\n",
    "mesh_type='quadrilateral'"
   ]
  },
  {
   "cell_type": "markdown",
   "id": "95a86e05-5af6-43ec-829b-c3476c42bd2b",
   "metadata": {},
   "source": [
    "#### Define heat source"
   ]
  },
  {
   "cell_type": "code",
   "execution_count": null,
   "id": "e8c67ffa-f676-40d0-8012-d9b9e44f818c",
   "metadata": {},
   "outputs": [],
   "source": [
    "q=1.0 # constant heat source"
   ]
  },
  {
   "cell_type": "markdown",
   "id": "494d6614-4202-4a39-8f3b-8ec91d3c56cf",
   "metadata": {},
   "source": [
    "#### Define boundary condition"
   ]
  },
  {
   "cell_type": "code",
   "execution_count": null,
   "id": "98f5965a-5cd4-4be2-9693-63d3c177ed6d",
   "metadata": {},
   "outputs": [],
   "source": [
    "T_bottom=300. # in Kelvin, Dirichlet boundary condition on the bottom"
   ]
  },
  {
   "cell_type": "markdown",
   "id": "f676424b-8412-4b0c-b968-0a433b865b8b",
   "metadata": {},
   "source": [
    "#### Define solver settings"
   ]
  },
  {
   "cell_type": "code",
   "execution_count": null,
   "id": "9a8024d4-e771-44ee-a47f-9ea022bda946",
   "metadata": {},
   "outputs": [],
   "source": [
    "petsc_options = {\n",
    "     'ksp_type': 'cg',\n",
    "     'pc_type': 'hypre',\n",
    "     'ksp_rtol': 1e-12,\n",
    "}"
   ]
  },
  {
   "cell_type": "markdown",
   "id": "60d0c61a-b889-49e2-956c-29c419cc399f",
   "metadata": {},
   "source": [
    "#### Define intial guess for the \"unknown\" thermal conductivity"
   ]
  },
  {
   "cell_type": "code",
   "execution_count": null,
   "id": "3fd74a75-7967-43da-a60a-67a5d1117109",
   "metadata": {},
   "outputs": [],
   "source": [
    "h_init = 4.*np.ones((nmesh,nmesh), dtype=float)\n",
    "idx=np.arange(nmesh)\n",
    "xx,yy=np.meshgrid(idx,idx,indexing='ij')\n",
    "hmesh_init=np.column_stack([xx.ravel(),yy.ravel(),h_init.ravel()])"
   ]
  },
  {
   "cell_type": "markdown",
   "id": "b605c637-0caf-47ef-86b0-f98c7e572fc8",
   "metadata": {},
   "source": [
    "#### Define forward solver"
   ]
  },
  {
   "cell_type": "code",
   "execution_count": null,
   "id": "459d888e-3204-4269-8f1f-88fba4e05759",
   "metadata": {},
   "outputs": [],
   "source": [
    "fwd_solver=ForwardSolver(nmesh=nmesh, mesh_type=mesh_type, \\\n",
    "                                          h=hmesh_init, q=q,\\\n",
    "                                          DBC_value=T_bottom,\n",
    "                                          petsc_opts=petsc_options)\n",
    "fwd_solver.solve()"
   ]
  },
  {
   "cell_type": "markdown",
   "id": "da7f7c07-990d-41fd-bc7c-32bade506212",
   "metadata": {},
   "source": [
    "#### Define adjoint solver"
   ]
  },
  {
   "cell_type": "code",
   "execution_count": null,
   "id": "15f89509-6798-470a-a062-5f5d5cffe29c",
   "metadata": {},
   "outputs": [],
   "source": [
    "## Defaul parameter values for the adjoint solver\n",
    "sigma = 1e-3 ## noise std.\n",
    "alpha = 5e-3 ## amplitude of regularization term\n",
    "adj_solver = AdjointSolver(fwd_solver, T_noisy.squeeze(axis=1), sigma=sigma, alpha=alpha, DBC_value=T_bottom, petsc_opts=petsc_options)\n",
    "adj_solver.solve()"
   ]
  },
  {
   "cell_type": "code",
   "execution_count": null,
   "id": "93229a8d-a477-49cc-9c03-3a2078b29ce7",
   "metadata": {},
   "outputs": [],
   "source": [
    "def default_monitor(tao):\n",
    "    it  = tao.getIterationNumber()\n",
    "    obj = tao.getObjectiveValue()\n",
    "    print(f\"[TAO] iter={it:3d};  J={obj:.6e}.\")\n",
    "\n",
    "solvers = ['bncg','blmvm']\n",
    "ls_algorithm=['more-thuente','armijo']\n",
    "gatol=1e-5\n",
    "grtol=1e-5\n",
    "gttol=1e-6\n",
    "verbose=1\n",
    "tao_solver = SteadyHeat2DTAOSolver(fwd_solver, adj_solver, tao_type=solvers[1], ls_algorithm=ls_algorithm[1],\n",
    "                                                 use_logh=True, h_min=0.1, h_max=10.,\n",
    "                                                 gatol=gatol, grtol=grtol, gttol=gttol, mit=1000,\n",
    "                                                 monitor=default_monitor, verbose=1)"
   ]
  },
  {
   "cell_type": "code",
   "execution_count": null,
   "id": "ec66f93b-a978-44e3-8081-ae314b41f029",
   "metadata": {},
   "outputs": [],
   "source": [
    "sol=tao_solver.solve()\n",
    "print(\"Solution h(x,y)=\",sol)"
   ]
  },
  {
   "cell_type": "code",
   "execution_count": null,
   "id": "8bf922ff-49f2-4f25-a498-4e434ceca502",
   "metadata": {},
   "outputs": [],
   "source": [
    "from plotting_utils import plot_scalar_mesh\n",
    "plot_scalar_mesh(fwd_solver.V.mesh,sol,'h_sol(x,y)',cmap='plasma',user_scalar_bar={\"fmt\": \"%.4f\"})"
   ]
  },
  {
   "cell_type": "code",
   "execution_count": null,
   "id": "ff1f8faa-7f2a-4d7b-b165-9d09071f3193",
   "metadata": {},
   "outputs": [],
   "source": [
    "def h_func(x):\n",
    "    return 1.0 + 6.0*x[0]**2 + x[0]/(1.0 + 2.0*x[1]**2)\n",
    "blackbox_solver=ForwardSolver(nmesh=nmesh, mesh_type=mesh_type, \\\n",
    "                                          h=h_func, q=q,\\\n",
    "                                          DBC_value=T_bottom,\n",
    "                                          petsc_opts=petsc_options)\n",
    "\n",
    "rel_diff=(sol-blackbox_solver.h.function.x.array)/blackbox_solver.h.function.x.array\n",
    "plot_scalar_mesh(fwd_solver.V.mesh,rel_diff,'(h_sol-h_true)/h_true',cmap='plasma',user_scalar_bar={\"fmt\": \"%.4f\"})"
   ]
  }
 ],
 "metadata": {
  "kernelspec": {
   "display_name": "Python 3 (ipykernel)",
   "language": "python",
   "name": "python3"
  },
  "language_info": {
   "codemirror_mode": {
    "name": "ipython",
    "version": 3
   },
   "file_extension": ".py",
   "mimetype": "text/x-python",
   "name": "python",
   "nbconvert_exporter": "python",
   "pygments_lexer": "ipython3",
   "version": "3.13.7"
  }
 },
 "nbformat": 4,
 "nbformat_minor": 5
}
